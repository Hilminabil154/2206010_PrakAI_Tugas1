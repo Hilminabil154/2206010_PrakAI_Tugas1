{
  "nbformat": 4,
  "nbformat_minor": 0,
  "metadata": {
    "colab": {
      "provenance": [],
      "authorship_tag": "ABX9TyM3/GNySTGlQr8+Z7Yovvnt",
      "include_colab_link": true
    },
    "kernelspec": {
      "name": "python3",
      "display_name": "Python 3"
    },
    "language_info": {
      "name": "python"
    }
  },
  "cells": [
    {
      "cell_type": "markdown",
      "metadata": {
        "id": "view-in-github",
        "colab_type": "text"
      },
      "source": [
        "<a href=\"https://colab.research.google.com/github/Hilminabil154/2206010_PrakAI_Tugas1/blob/main/2206010_Praktikum_AI_Tugas_1.ipynb\" target=\"_parent\"><img src=\"https://colab.research.google.com/assets/colab-badge.svg\" alt=\"Open In Colab\"/></a>"
      ]
    },
    {
      "cell_type": "markdown",
      "source": [
        "**1. Membuat Dataset Penjualan (Digitalise & Collect)**"
      ],
      "metadata": {
        "id": "AWF4AeKB1cVN"
      }
    },
    {
      "cell_type": "code",
      "execution_count": 27,
      "metadata": {
        "colab": {
          "base_uri": "https://localhost:8080/"
        },
        "id": "3g2Yrh-Fxo7C",
        "outputId": "d8550496-9365-401b-e51c-a0323873795b"
      },
      "outputs": [
        {
          "output_type": "stream",
          "name": "stdout",
          "text": [
            "File data_penjualan_latihan.csv berhasil dibuat dan bisa dibaca di Google Collab\n"
          ]
        }
      ],
      "source": [
        "import pandas as pd\n",
        "\n",
        "# Buat data\n",
        "data = {\n",
        "    \"Tanggal\": [\"2025-03-01\", \"2025-03-01\", \"2025-03-02\", \"2025-03-02\", \"2025-03-03\", \"2025-03-03\", \"2025-03-04\", \"2025-03-04\", \"2025-03-05\", \"2025-03-05\"],\n",
        "    \"Produk\": [\"Laptop Asus\", \"HP Samsung\", \"Printer Canon\", \"Mouse Logitech\", \"Keyboard Razer\", \"Monitor LG\", \"Flashdisk 32GB\", \"Harddisk 1TB\", \"SSD 512GB\", \"Powerbank 20.000mAh\"],\n",
        "    \"Jumlah Terjual\": [2, 5, 3, 10, 4, 2, 15, 3, 5, 7],\n",
        "    \"Stok\": [10, 20, 15, 50, 30, 12, 100, 25, 18, 40],\n",
        "    \"Harga Satuan\": [8500000, 3200000, 1500000, 250000, 1200000, 2750000, 150000, 900000, 1750000, 400000],\n",
        "}\n",
        "\n",
        "# Simpan dalam DataFrame\n",
        "df = pd.DataFrame(data)\n",
        "\n",
        "# Simpan sebagai file csv\n",
        "df.to_csv(\"data_penjualan_latihan.csv\", index=False)\n",
        "\n",
        "print(\"File data_penjualan_latihan.csv berhasil dibuat dan bisa dibaca di Google Collab\")"
      ]
    },
    {
      "cell_type": "markdown",
      "source": [
        "**2. Membersihkan dan Mengolah Data (Transform)**"
      ],
      "metadata": {
        "id": "56KTIluP1nqE"
      }
    },
    {
      "cell_type": "code",
      "source": [
        "# Membaca File CSV\n",
        "df = pd.read_csv(\"data_penjualan_latihan.csv\")\n",
        "\n",
        "# Cek apakah ada data yang kosong\n",
        "print(\"Jumlah data kosong per kolom:\")\n",
        "print(df.isnull().sum())\n",
        "\n",
        "# Mengisi Data yang Kosong tanpa inplace=True\n",
        "df = df.assign(\n",
        "    Tanggal=df[\"Tanggal\"].fillna(\"2025-03-04\"),\n",
        "    Jumlah_Terjual=df[\"Jumlah Terjual\"].fillna(df[\"Jumlah Terjual\"].mean()),\n",
        "    Stok=df[\"Stok\"].fillna(df[\"Stok\"].mean()),\n",
        "    Harga_Satuan=df[\"Harga Satuan\"].fillna(df[\"Harga Satuan\"].median())\n",
        ")\n",
        "\n",
        "# Konversi kolom Tanggal ke format datetime\n",
        "df[\"Tanggal\"] = pd.to_datetime(df[\"Tanggal\"])\n",
        "\n",
        "# Tambahkan Kolom \"Total Penjualan\"\n",
        "df[\"Total Penjualan\"] = df[\"Jumlah Terjual\"] * df[\"Harga Satuan\"]\n",
        "\n",
        "# Tambahkan Kolom \"Keuntungan\" (Asumsi modal Rp 10.000 per unit terjual)\n",
        "df[\"Keuntungan\"] = df[\"Total Penjualan\"] - (df[\"Jumlah Terjual\"] * 10000)\n",
        "\n",
        "# Menampilkan 5 data teratas untuk verifikasi\n",
        "print(df.head())"
      ],
      "metadata": {
        "colab": {
          "base_uri": "https://localhost:8080/"
        },
        "id": "q-wJL42z3FJG",
        "outputId": "971e2966-c2ff-436d-b81c-ebf68a692c6b"
      },
      "execution_count": 28,
      "outputs": [
        {
          "output_type": "stream",
          "name": "stdout",
          "text": [
            "Jumlah data kosong per kolom:\n",
            "Tanggal           0\n",
            "Produk            0\n",
            "Jumlah Terjual    0\n",
            "Stok              0\n",
            "Harga Satuan      0\n",
            "dtype: int64\n",
            "     Tanggal          Produk  Jumlah Terjual  Stok  Harga Satuan  \\\n",
            "0 2025-03-01     Laptop Asus               2    10       8500000   \n",
            "1 2025-03-01      HP Samsung               5    20       3200000   \n",
            "2 2025-03-02   Printer Canon               3    15       1500000   \n",
            "3 2025-03-02  Mouse Logitech              10    50        250000   \n",
            "4 2025-03-03  Keyboard Razer               4    30       1200000   \n",
            "\n",
            "   Jumlah_Terjual  Harga_Satuan  Total Penjualan  Keuntungan  \n",
            "0               2       8500000         17000000    16980000  \n",
            "1               5       3200000         16000000    15950000  \n",
            "2               3       1500000          4500000     4470000  \n",
            "3              10        250000          2500000     2400000  \n",
            "4               4       1200000          4800000     4760000  \n"
          ]
        }
      ]
    },
    {
      "cell_type": "markdown",
      "source": [
        "**3. Melatih Model AI (Train & Execute)**"
      ],
      "metadata": {
        "id": "rkMdtx7y6HT-"
      }
    },
    {
      "cell_type": "code",
      "source": [
        "!pip install scikit-learn"
      ],
      "metadata": {
        "colab": {
          "base_uri": "https://localhost:8080/"
        },
        "id": "YQFNniw66MHJ",
        "outputId": "7aa7f954-4f92-4f48-e38e-286148c90d1f"
      },
      "execution_count": 29,
      "outputs": [
        {
          "output_type": "stream",
          "name": "stdout",
          "text": [
            "Requirement already satisfied: scikit-learn in /usr/local/lib/python3.11/dist-packages (1.6.1)\n",
            "Requirement already satisfied: numpy>=1.19.5 in /usr/local/lib/python3.11/dist-packages (from scikit-learn) (1.26.4)\n",
            "Requirement already satisfied: scipy>=1.6.0 in /usr/local/lib/python3.11/dist-packages (from scikit-learn) (1.13.1)\n",
            "Requirement already satisfied: joblib>=1.2.0 in /usr/local/lib/python3.11/dist-packages (from scikit-learn) (1.4.2)\n",
            "Requirement already satisfied: threadpoolctl>=3.1.0 in /usr/local/lib/python3.11/dist-packages (from scikit-learn) (3.5.0)\n"
          ]
        }
      ]
    },
    {
      "cell_type": "code",
      "source": [
        "from sklearn.model_selection import train_test_split\n",
        "from sklearn.tree import DecisionTreeClassifier\n",
        "from sklearn.metrics import accuracy_score\n",
        "\n",
        "# Pilih Fitur (x) dan target (y)\n",
        "X = df[[\"Jumlah Terjual\", \"Stok\"]]\n",
        "y = (df[\"Stok\"] < 5).astype(int) # 1 Jika stok kurang dari 5, 0 jika cukup\n",
        "\n",
        "# Split data menjadi train dan test\n",
        "X_train, X_test, y_train, y_test = train_test_split(X, y, test_size=0.2, random_state=42)\n",
        "\n",
        "# Buat model Decision Tree\n",
        "model = DecisionTreeClassifier()\n",
        "model.fit(X_train, y_train)\n",
        "\n",
        "# Evaluasi model\n",
        "y_pred = model.predict(X_test)\n",
        "print(\"Akurasi Model: \", accuracy_score(y_test, y_pred))"
      ],
      "metadata": {
        "colab": {
          "base_uri": "https://localhost:8080/"
        },
        "id": "BX4DgkwZ6Rcc",
        "outputId": "490890e9-ed1e-4010-e9f4-62482bfe2c41"
      },
      "execution_count": 30,
      "outputs": [
        {
          "output_type": "stream",
          "name": "stdout",
          "text": [
            "Akurasi Model:  1.0\n"
          ]
        }
      ]
    },
    {
      "cell_type": "markdown",
      "source": [
        "**4. Prediksi Restock Produk (Execute & Insights)**"
      ],
      "metadata": {
        "id": "BBq2ARd68KAu"
      }
    },
    {
      "cell_type": "code",
      "source": [
        "# Contoh produk baru (jumlah terjual 8, stok tersisa 3)\n",
        "produk_baru = [[8, 3]]\n",
        "prediksi = model.predict(produk_baru)\n",
        "\n",
        "if prediksi[0] == 1:\n",
        "  print (\"Produk perlu di-restock!\")\n",
        "else:\n",
        "  print(\"Produk tidak perlu di-restock.\")"
      ],
      "metadata": {
        "colab": {
          "base_uri": "https://localhost:8080/"
        },
        "id": "dYBFqezC8QXF",
        "outputId": "b1072286-c88e-435a-ee7b-53c911cc8c6b"
      },
      "execution_count": 31,
      "outputs": [
        {
          "output_type": "stream",
          "name": "stdout",
          "text": [
            "Produk tidak perlu di-restock.\n"
          ]
        },
        {
          "output_type": "stream",
          "name": "stderr",
          "text": [
            "/usr/local/lib/python3.11/dist-packages/sklearn/utils/validation.py:2739: UserWarning: X does not have valid feature names, but DecisionTreeClassifier was fitted with feature names\n",
            "  warnings.warn(\n"
          ]
        }
      ]
    },
    {
      "cell_type": "code",
      "source": [
        "import matplotlib.pyplot as plt\n",
        "\n",
        "plt.scatter(df[\"Jumlah Terjual\"], df[\"Stok\"], c=df[\"Keuntungan\"], cmap=\"coolwarm\")\n",
        "plt.xlabel(\"Jumlah Terjual\")\n",
        "plt.ylabel(\"Stok\")\n",
        "plt.title(\"Analisis Penjualan dan Stok\")\n",
        "plt.colorbar(label=\"Keuntungan\")\n",
        "plt.show()"
      ],
      "metadata": {
        "colab": {
          "base_uri": "https://localhost:8080/",
          "height": 472
        },
        "id": "NgaCufk08zxq",
        "outputId": "98c9f0d9-c457-41de-ff5e-716d572bc733"
      },
      "execution_count": 32,
      "outputs": [
        {
          "output_type": "display_data",
          "data": {
            "text/plain": [
              "<Figure size 640x480 with 2 Axes>"
            ],
            "image/png": "[encoded data removed]"
          },
          "metadata": {}
        }
      ]
    }
  ]
}